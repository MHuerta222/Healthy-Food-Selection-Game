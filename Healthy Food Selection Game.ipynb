{
 "cells": [
  {
   "cell_type": "code",
   "execution_count": null,
   "id": "7666a610",
   "metadata": {},
   "outputs": [],
   "source": [
    "color = float(input(\"Enter a number from 1 to 8: \"))\n",
    "red = 1\n",
    "blue = 2\n",
    "green = 3\n",
    "pink = 4\n",
    "orange = 5\n",
    "purple = 6\n",
    "yellow = 7\n",
    "brown = 8\n",
    "if color == red:\n",
    "    print(\"Your color is red! Healthy red foods include strawberries and apples.\")\n",
    "elif color == blue:\n",
    "    print(\"Your color is blue! Healthy blue foods include blueberriers and blackberries\")\n",
    "elif color == green:\n",
    "    print(\"Your color is green! Healthy green foods include spinach and broccoli.\")\n",
    "elif color == pink:\n",
    "    print(\"Your color is pink! Healthy pink foods include watermelon and grapefruit\")\n",
    "elif color == orange:\n",
    "    print(\"Your color is orange! Healthy orange foods include carrots and oranges.\")\n",
    "elif color == purple:\n",
    "    print(\"Your color is purple! Healthy purple foods include grapes and eggplant.\")\n",
    "elif color == yellow:\n",
    "    print(\"Your color is yellow! Healthy yellow foods include bananas and corn.\")\n",
    "elif color == brown:\n",
    "    print(\"Your color is brown! Healthy brown foods include mushrooms and almonds.\")\n",
    "else:\n",
    "    print(\"Try again! Enter a number from 1 to 8.\")"
   ]
  },
  {
   "cell_type": "code",
   "execution_count": null,
   "id": "d052cf1c",
   "metadata": {},
   "outputs": [],
   "source": []
  },
  {
   "cell_type": "code",
   "execution_count": null,
   "id": "a2cb278b",
   "metadata": {},
   "outputs": [],
   "source": []
  }
 ],
 "metadata": {
  "kernelspec": {
   "display_name": "Python 3 (ipykernel)",
   "language": "python",
   "name": "python3"
  },
  "language_info": {
   "codemirror_mode": {
    "name": "ipython",
    "version": 3
   },
   "file_extension": ".py",
   "mimetype": "text/x-python",
   "name": "python",
   "nbconvert_exporter": "python",
   "pygments_lexer": "ipython3",
   "version": "3.9.12"
  }
 },
 "nbformat": 4,
 "nbformat_minor": 5
}
